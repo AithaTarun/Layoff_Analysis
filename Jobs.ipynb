{
 "cells": [
  {
   "cell_type": "markdown",
   "source": [
    "# Job Solutions"
   ],
   "metadata": {
    "collapsed": false
   }
  },
  {
   "cell_type": "markdown",
   "source": [
    "## Imports"
   ],
   "metadata": {
    "collapsed": false
   }
  },
  {
   "cell_type": "code",
   "execution_count": 10,
   "outputs": [],
   "source": [
    "import openpyxl\n",
    "import pandas as pd\n",
    "import numpy as np"
   ],
   "metadata": {
    "collapsed": false,
    "ExecuteTime": {
     "end_time": "2023-06-20T16:46:41.410329700Z",
     "start_time": "2023-06-20T16:46:41.301102800Z"
    }
   }
  },
  {
   "cell_type": "markdown",
   "source": [
    "## Reading Data"
   ],
   "metadata": {
    "collapsed": false
   }
  },
  {
   "cell_type": "code",
   "execution_count": 11,
   "outputs": [],
   "source": [
    "def read_excel(filename):\n",
    "    workbook = openpyxl.load_workbook(filename)\n",
    "\n",
    "    worksheet = workbook['Sheet1']\n",
    "\n",
    "    data = worksheet.values\n",
    "\n",
    "    dataframe = pd.DataFrame(data)\n",
    "\n",
    "    # Assigning First Row As Header\n",
    "    header = dataframe.iloc[0]\n",
    "    dataframe = dataframe[1:]\n",
    "    dataframe.columns = header\n",
    "\n",
    "    return dataframe"
   ],
   "metadata": {
    "collapsed": false,
    "ExecuteTime": {
     "end_time": "2023-06-20T16:46:41.629517800Z",
     "start_time": "2023-06-20T16:46:41.317571200Z"
    }
   }
  },
  {
   "cell_type": "code",
   "execution_count": 12,
   "outputs": [],
   "source": [
    "job_roles_dataframe = read_excel(\"./Data/Job Roles.xlsx\")\n",
    "job_skills_dataframe = read_excel(\"./Data/Job Skills.xlsx\")\n",
    "job_risks_dataframe = read_excel(\"./Data/Job Risks.xlsx\")"
   ],
   "metadata": {
    "collapsed": false,
    "ExecuteTime": {
     "end_time": "2023-06-20T16:46:41.707314500Z",
     "start_time": "2023-06-20T16:46:41.345496900Z"
    }
   }
  },
  {
   "cell_type": "code",
   "execution_count": 13,
   "outputs": [
    {
     "data": {
      "text/plain": "0                                     Job Role  \\\n1                           Software Developer   \n2                        AI Research Scientist   \n3                              Data Scientists   \n4                    Machine Learning Engineer   \n5                   Computer Network Architect   \n6                  Mobile Application Designer   \n7                     Computer systems analyst   \n8                          Computer programmer   \n9   Network and computer systems administrator   \n10                               Web developer   \n\n0                          Qualification  \\\n1                             Bachelor's   \n2                               Master's   \n3                 Bachelor's or master's   \n4                               Master's   \n5   Bachelor's and 2 years of experience   \n6                Associate or Bachelor's   \n7                             Bachelor's   \n8                             Bachelor's   \n9                             Bachelor's   \n10                            Bachelor's   \n\n0                      Required Programming Languages  \\\n1                                    Python,C#,JQuery   \n2               Python,Java,C++,JavaScript,Julia,LISP   \n3   Python,R,SQL,Java,C/C++,Scala,GO,JavaScript,Sw...   \n4                                   Python,JavaScript   \n5                                    Python,Perl,Json   \n6            Python,C#,C++,PHP,Java,Scala,Java Script   \n7                    Structured Query Language (SQL).   \n8   Python,JavaScript,SQL,Java,C/C++,Scala,PHP,Kot...   \n9                    HTML ,Java Script,Go,Python,Node   \n10                   \\nHTML ,Java Script,PHP,JAVA,CSS   \n\n0                                      Required Skill Expected Starting Pay  \n1   Strong Communication Skills\\nInterpersonal Ski...    4.5 Lakhs per year  \n2   Logical thinking with mathematical, analytical...    3.5 Lakhs per year  \n3   Analytical professionals with strengths in mat...    3.5 Lakhs per year  \n4   Logical and analytical professionals with stro...    6.4 Lakhs per year  \n5   Detail-oriented professionals with a broad kno...     11 Lakhs per year  \n6   Creative IT specialists with problem-solving a...    3.2 Lakhs per year  \n7   People with analytical skills\\nLeaders with st...    7.6 Lakhs per year  \n8   Professionals with computer and troubleshootin...    3.5 Lakhs per year  \n9   Multitaskers with analytical mindsets\\nProblem...    3.3 Lakhs per year  \n10  Creative-minded professionals with coding and ...    4.2 Lakhs per year  ",
      "text/html": "<div>\n<style scoped>\n    .dataframe tbody tr th:only-of-type {\n        vertical-align: middle;\n    }\n\n    .dataframe tbody tr th {\n        vertical-align: top;\n    }\n\n    .dataframe thead th {\n        text-align: right;\n    }\n</style>\n<table border=\"1\" class=\"dataframe\">\n  <thead>\n    <tr style=\"text-align: right;\">\n      <th></th>\n      <th>Job Role</th>\n      <th>Qualification</th>\n      <th>Required Programming Languages</th>\n      <th>Required Skill</th>\n      <th>Expected Starting Pay</th>\n    </tr>\n  </thead>\n  <tbody>\n    <tr>\n      <th>1</th>\n      <td>Software Developer</td>\n      <td>Bachelor's</td>\n      <td>Python,C#,JQuery</td>\n      <td>Strong Communication Skills\\nInterpersonal Ski...</td>\n      <td>4.5 Lakhs per year</td>\n    </tr>\n    <tr>\n      <th>2</th>\n      <td>AI Research Scientist</td>\n      <td>Master's</td>\n      <td>Python,Java,C++,JavaScript,Julia,LISP</td>\n      <td>Logical thinking with mathematical, analytical...</td>\n      <td>3.5 Lakhs per year</td>\n    </tr>\n    <tr>\n      <th>3</th>\n      <td>Data Scientists</td>\n      <td>Bachelor's or master's</td>\n      <td>Python,R,SQL,Java,C/C++,Scala,GO,JavaScript,Sw...</td>\n      <td>Analytical professionals with strengths in mat...</td>\n      <td>3.5 Lakhs per year</td>\n    </tr>\n    <tr>\n      <th>4</th>\n      <td>Machine Learning Engineer</td>\n      <td>Master's</td>\n      <td>Python,JavaScript</td>\n      <td>Logical and analytical professionals with stro...</td>\n      <td>6.4 Lakhs per year</td>\n    </tr>\n    <tr>\n      <th>5</th>\n      <td>Computer Network Architect</td>\n      <td>Bachelor's and 2 years of experience</td>\n      <td>Python,Perl,Json</td>\n      <td>Detail-oriented professionals with a broad kno...</td>\n      <td>11 Lakhs per year</td>\n    </tr>\n    <tr>\n      <th>6</th>\n      <td>Mobile Application Designer</td>\n      <td>Associate or Bachelor's</td>\n      <td>Python,C#,C++,PHP,Java,Scala,Java Script</td>\n      <td>Creative IT specialists with problem-solving a...</td>\n      <td>3.2 Lakhs per year</td>\n    </tr>\n    <tr>\n      <th>7</th>\n      <td>Computer systems analyst</td>\n      <td>Bachelor's</td>\n      <td>Structured Query Language (SQL).</td>\n      <td>People with analytical skills\\nLeaders with st...</td>\n      <td>7.6 Lakhs per year</td>\n    </tr>\n    <tr>\n      <th>8</th>\n      <td>Computer programmer</td>\n      <td>Bachelor's</td>\n      <td>Python,JavaScript,SQL,Java,C/C++,Scala,PHP,Kot...</td>\n      <td>Professionals with computer and troubleshootin...</td>\n      <td>3.5 Lakhs per year</td>\n    </tr>\n    <tr>\n      <th>9</th>\n      <td>Network and computer systems administrator</td>\n      <td>Bachelor's</td>\n      <td>HTML ,Java Script,Go,Python,Node</td>\n      <td>Multitaskers with analytical mindsets\\nProblem...</td>\n      <td>3.3 Lakhs per year</td>\n    </tr>\n    <tr>\n      <th>10</th>\n      <td>Web developer</td>\n      <td>Bachelor's</td>\n      <td>\\nHTML ,Java Script,PHP,JAVA,CSS</td>\n      <td>Creative-minded professionals with coding and ...</td>\n      <td>4.2 Lakhs per year</td>\n    </tr>\n  </tbody>\n</table>\n</div>"
     },
     "execution_count": 13,
     "metadata": {},
     "output_type": "execute_result"
    }
   ],
   "source": [
    "job_roles_dataframe"
   ],
   "metadata": {
    "collapsed": false,
    "ExecuteTime": {
     "end_time": "2023-06-20T16:46:41.864920800Z",
     "start_time": "2023-06-20T16:46:41.452729600Z"
    }
   }
  },
  {
   "cell_type": "code",
   "execution_count": 14,
   "outputs": [
    {
     "data": {
      "text/plain": "0                Required Skills  \\\n1     Strong Communication Skill   \n2           Interpersonal Skills   \n3            Presentation Skills   \n4              Creativity Skills   \n5     Analytical Problem Solving   \n6         Detail Oriented Skills   \n7        Logical thinking Skills   \n8              Innovative skills   \n9              Leadership Skills   \n10           Mathematical Skills   \n11              Technical Skills   \n12              Ingenuity Skills   \n13           Multitasking Skills   \n14  Good Customer service Skills   \n\n0                                   Skill Acquisition  \n1   Be clear and concise, Prepare ahead of time, B...  \n2   Cultivate a positive outlook, Control your emo...  \n3   Know your subject and audience well, Take your...  \n4   Keep learning, Do what you love, Take a break,...  \n5   Read more, Observe more, Learn something new, ...  \n6   Make sure you understand instructions clearly,...  \n7   Partake in creative activities, Practice your ...  \n8   Take risks, Look for new opportunities, Challe...  \n9   Practice discipline, Take on more projects, Le...  \n10  Wrap your head around the concepts, Try game-b...  \n11  Doing it on your own, Find a mentor, On-the-jo...  \n12  Creating ideas, Transforming ideas into assump...  \n13  Set yourself realistic goals, Give yourself en...  \n14  Persuasive Speaking Skills, Empathy, Adaptabil...  ",
      "text/html": "<div>\n<style scoped>\n    .dataframe tbody tr th:only-of-type {\n        vertical-align: middle;\n    }\n\n    .dataframe tbody tr th {\n        vertical-align: top;\n    }\n\n    .dataframe thead th {\n        text-align: right;\n    }\n</style>\n<table border=\"1\" class=\"dataframe\">\n  <thead>\n    <tr style=\"text-align: right;\">\n      <th></th>\n      <th>Required Skills</th>\n      <th>Skill Acquisition</th>\n    </tr>\n  </thead>\n  <tbody>\n    <tr>\n      <th>1</th>\n      <td>Strong Communication Skill</td>\n      <td>Be clear and concise, Prepare ahead of time, B...</td>\n    </tr>\n    <tr>\n      <th>2</th>\n      <td>Interpersonal Skills</td>\n      <td>Cultivate a positive outlook, Control your emo...</td>\n    </tr>\n    <tr>\n      <th>3</th>\n      <td>Presentation Skills</td>\n      <td>Know your subject and audience well, Take your...</td>\n    </tr>\n    <tr>\n      <th>4</th>\n      <td>Creativity Skills</td>\n      <td>Keep learning, Do what you love, Take a break,...</td>\n    </tr>\n    <tr>\n      <th>5</th>\n      <td>Analytical Problem Solving</td>\n      <td>Read more, Observe more, Learn something new, ...</td>\n    </tr>\n    <tr>\n      <th>6</th>\n      <td>Detail Oriented Skills</td>\n      <td>Make sure you understand instructions clearly,...</td>\n    </tr>\n    <tr>\n      <th>7</th>\n      <td>Logical thinking Skills</td>\n      <td>Partake in creative activities, Practice your ...</td>\n    </tr>\n    <tr>\n      <th>8</th>\n      <td>Innovative skills</td>\n      <td>Take risks, Look for new opportunities, Challe...</td>\n    </tr>\n    <tr>\n      <th>9</th>\n      <td>Leadership Skills</td>\n      <td>Practice discipline, Take on more projects, Le...</td>\n    </tr>\n    <tr>\n      <th>10</th>\n      <td>Mathematical Skills</td>\n      <td>Wrap your head around the concepts, Try game-b...</td>\n    </tr>\n    <tr>\n      <th>11</th>\n      <td>Technical Skills</td>\n      <td>Doing it on your own, Find a mentor, On-the-jo...</td>\n    </tr>\n    <tr>\n      <th>12</th>\n      <td>Ingenuity Skills</td>\n      <td>Creating ideas, Transforming ideas into assump...</td>\n    </tr>\n    <tr>\n      <th>13</th>\n      <td>Multitasking Skills</td>\n      <td>Set yourself realistic goals, Give yourself en...</td>\n    </tr>\n    <tr>\n      <th>14</th>\n      <td>Good Customer service Skills</td>\n      <td>Persuasive Speaking Skills, Empathy, Adaptabil...</td>\n    </tr>\n  </tbody>\n</table>\n</div>"
     },
     "execution_count": 14,
     "metadata": {},
     "output_type": "execute_result"
    }
   ],
   "source": [
    "job_skills_dataframe"
   ],
   "metadata": {
    "collapsed": false,
    "ExecuteTime": {
     "end_time": "2023-06-20T16:46:42.010049200Z",
     "start_time": "2023-06-20T16:46:41.472675700Z"
    }
   }
  },
  {
   "cell_type": "code",
   "execution_count": 15,
   "outputs": [
    {
     "data": {
      "text/plain": "0  Company Name               Sector  \\\n1        Amazon             Software   \n2        Meesho            Ecommerce   \n3          Meta             Software   \n4         Wipro             Software   \n5        Google             Software   \n6     Cognizant             Software   \n7       Infosys             Software   \n8         Byjus               Edtech   \n9     Unacademy               Edtech   \n10      Toothsi           Healthtech   \n11    Pharmeasy           Healthtech   \n12  Healthifyme           Healthtech   \n13       Hirect      Enterprise tech   \n14          Ola   Consumer  Services   \n15      Blinkit   Consumer  Services   \n16          OYO   Consumer  Services   \n17     Livspace   Consumer  Services   \n18   Share chat  Media entertainment   \n19  Pocket aces  Media entertainment   \n20         MPL   Media entertainment   \n\n0                                      High Risk jobs  \\\n1   Hardware and Services, Human Resources, Retail...   \n2   Sales Executive, Non-essential Administrative ...   \n3   Contract Workers and Temporary Staff, Sales an...   \n4   Non-essential Administrative Roles, Entry-leve...   \n5   Non-essential Administrative Roles, Sales and ...   \n6   Non-essential Administrative Roles, Non-techni...   \n7   Non-essential Administrative Roles, Non-techni...   \n8   Entry-level or Junior-level Positions, Non-ess...   \n9   Entry-level or Junior-level Positions, Non-ess...   \n10  Entry-level or Junior-level Positions, Non-ess...   \n11  Non-essential Administrative Roles, Sales and ...   \n12  Non-essential Administrative Roles, Sales and ...   \n13  Non-essential Administrative Roles, Sales and ...   \n14  Non-essential Administrative Roles, Sales and ...   \n15  Non-essential Administrative Roles, Sales and ...   \n16  Non-essential Administrative Roles, Sales and ...   \n17  Non-essential Administrative Roles, Sales and ...   \n18  Non-essential Administrative Roles, Sales and ...   \n19  Non-essential Administrative Roles, Sales and ...   \n20  Non-essential Administrative Roles, Sales and ...   \n\n0                                       Low Risk jobs  \n1   Software Development Engineer (SDE), Data Scie...  \n2   Customer Support Executive, Business Developme...  \n3   Software Engineer/Developer, Data Scientist/An...  \n4   Technology Consultants, Software Engineers/Dev...  \n5   Software Engineers/Developers, Data Scientists...  \n6   Technology Consultants, Software Engineers/Dev...  \n7   Technology Consultants, Software Engineers/Dev...  \n8   Subject Matter Experts (SMEs), Curriculum Desi...  \n9   Subject Matter Experts (SMEs), Educators/Instr...  \n10  Orthodontists, Treatment Coordinators, Dental ...  \n11  Pharmacists, Medical Professionals, Technology...  \n12  Nutritionists/Dieticians, Fitness Trainers, Te...  \n13  Technology and Development Roles, Product Mana...  \n14  Ride-Hailing Drivers, Technology Professionals...  \n15  Delivery Executives, Technology Professionals,...  \n16  Hotel Operations and Management, Technology an...  \n17  Interior Designers, Project Managers, Sales an...  \n18  Software Engineers and Developers, Content Mod...  \n19  Content Creators and Writers, Video Editors an...  \n20  Software Engineers and Developers, Game Design...  ",
      "text/html": "<div>\n<style scoped>\n    .dataframe tbody tr th:only-of-type {\n        vertical-align: middle;\n    }\n\n    .dataframe tbody tr th {\n        vertical-align: top;\n    }\n\n    .dataframe thead th {\n        text-align: right;\n    }\n</style>\n<table border=\"1\" class=\"dataframe\">\n  <thead>\n    <tr style=\"text-align: right;\">\n      <th></th>\n      <th>Company Name</th>\n      <th>Sector</th>\n      <th>High Risk jobs</th>\n      <th>Low Risk jobs</th>\n    </tr>\n  </thead>\n  <tbody>\n    <tr>\n      <th>1</th>\n      <td>Amazon</td>\n      <td>Software</td>\n      <td>Hardware and Services, Human Resources, Retail...</td>\n      <td>Software Development Engineer (SDE), Data Scie...</td>\n    </tr>\n    <tr>\n      <th>2</th>\n      <td>Meesho</td>\n      <td>Ecommerce</td>\n      <td>Sales Executive, Non-essential Administrative ...</td>\n      <td>Customer Support Executive, Business Developme...</td>\n    </tr>\n    <tr>\n      <th>3</th>\n      <td>Meta</td>\n      <td>Software</td>\n      <td>Contract Workers and Temporary Staff, Sales an...</td>\n      <td>Software Engineer/Developer, Data Scientist/An...</td>\n    </tr>\n    <tr>\n      <th>4</th>\n      <td>Wipro</td>\n      <td>Software</td>\n      <td>Non-essential Administrative Roles, Entry-leve...</td>\n      <td>Technology Consultants, Software Engineers/Dev...</td>\n    </tr>\n    <tr>\n      <th>5</th>\n      <td>Google</td>\n      <td>Software</td>\n      <td>Non-essential Administrative Roles, Sales and ...</td>\n      <td>Software Engineers/Developers, Data Scientists...</td>\n    </tr>\n    <tr>\n      <th>6</th>\n      <td>Cognizant</td>\n      <td>Software</td>\n      <td>Non-essential Administrative Roles, Non-techni...</td>\n      <td>Technology Consultants, Software Engineers/Dev...</td>\n    </tr>\n    <tr>\n      <th>7</th>\n      <td>Infosys</td>\n      <td>Software</td>\n      <td>Non-essential Administrative Roles, Non-techni...</td>\n      <td>Technology Consultants, Software Engineers/Dev...</td>\n    </tr>\n    <tr>\n      <th>8</th>\n      <td>Byjus</td>\n      <td>Edtech</td>\n      <td>Entry-level or Junior-level Positions, Non-ess...</td>\n      <td>Subject Matter Experts (SMEs), Curriculum Desi...</td>\n    </tr>\n    <tr>\n      <th>9</th>\n      <td>Unacademy</td>\n      <td>Edtech</td>\n      <td>Entry-level or Junior-level Positions, Non-ess...</td>\n      <td>Subject Matter Experts (SMEs), Educators/Instr...</td>\n    </tr>\n    <tr>\n      <th>10</th>\n      <td>Toothsi</td>\n      <td>Healthtech</td>\n      <td>Entry-level or Junior-level Positions, Non-ess...</td>\n      <td>Orthodontists, Treatment Coordinators, Dental ...</td>\n    </tr>\n    <tr>\n      <th>11</th>\n      <td>Pharmeasy</td>\n      <td>Healthtech</td>\n      <td>Non-essential Administrative Roles, Sales and ...</td>\n      <td>Pharmacists, Medical Professionals, Technology...</td>\n    </tr>\n    <tr>\n      <th>12</th>\n      <td>Healthifyme</td>\n      <td>Healthtech</td>\n      <td>Non-essential Administrative Roles, Sales and ...</td>\n      <td>Nutritionists/Dieticians, Fitness Trainers, Te...</td>\n    </tr>\n    <tr>\n      <th>13</th>\n      <td>Hirect</td>\n      <td>Enterprise tech</td>\n      <td>Non-essential Administrative Roles, Sales and ...</td>\n      <td>Technology and Development Roles, Product Mana...</td>\n    </tr>\n    <tr>\n      <th>14</th>\n      <td>Ola</td>\n      <td>Consumer  Services</td>\n      <td>Non-essential Administrative Roles, Sales and ...</td>\n      <td>Ride-Hailing Drivers, Technology Professionals...</td>\n    </tr>\n    <tr>\n      <th>15</th>\n      <td>Blinkit</td>\n      <td>Consumer  Services</td>\n      <td>Non-essential Administrative Roles, Sales and ...</td>\n      <td>Delivery Executives, Technology Professionals,...</td>\n    </tr>\n    <tr>\n      <th>16</th>\n      <td>OYO</td>\n      <td>Consumer  Services</td>\n      <td>Non-essential Administrative Roles, Sales and ...</td>\n      <td>Hotel Operations and Management, Technology an...</td>\n    </tr>\n    <tr>\n      <th>17</th>\n      <td>Livspace</td>\n      <td>Consumer  Services</td>\n      <td>Non-essential Administrative Roles, Sales and ...</td>\n      <td>Interior Designers, Project Managers, Sales an...</td>\n    </tr>\n    <tr>\n      <th>18</th>\n      <td>Share chat</td>\n      <td>Media entertainment</td>\n      <td>Non-essential Administrative Roles, Sales and ...</td>\n      <td>Software Engineers and Developers, Content Mod...</td>\n    </tr>\n    <tr>\n      <th>19</th>\n      <td>Pocket aces</td>\n      <td>Media entertainment</td>\n      <td>Non-essential Administrative Roles, Sales and ...</td>\n      <td>Content Creators and Writers, Video Editors an...</td>\n    </tr>\n    <tr>\n      <th>20</th>\n      <td>MPL</td>\n      <td>Media entertainment</td>\n      <td>Non-essential Administrative Roles, Sales and ...</td>\n      <td>Software Engineers and Developers, Game Design...</td>\n    </tr>\n  </tbody>\n</table>\n</div>"
     },
     "execution_count": 15,
     "metadata": {},
     "output_type": "execute_result"
    }
   ],
   "source": [
    "job_risks_dataframe"
   ],
   "metadata": {
    "collapsed": false,
    "ExecuteTime": {
     "end_time": "2023-06-20T16:46:42.146666100Z",
     "start_time": "2023-06-20T16:46:41.559546200Z"
    }
   }
  },
  {
   "cell_type": "markdown",
   "source": [
    "## Data Transformation"
   ],
   "metadata": {
    "collapsed": false
   }
  },
  {
   "cell_type": "markdown",
   "source": [
    "#### Converting Job Roles Data Frame Column \"Required Programming Languages\" to Column of Arrays to hold multiple Programming Languages"
   ],
   "metadata": {
    "collapsed": false
   }
  },
  {
   "cell_type": "code",
   "execution_count": 16,
   "outputs": [
    {
     "data": {
      "text/plain": "0                                     Job Role  \\\n1                           Software Developer   \n2                        AI Research Scientist   \n3                              Data Scientists   \n4                    Machine Learning Engineer   \n5                   Computer Network Architect   \n6                  Mobile Application Designer   \n7                     Computer systems analyst   \n8                          Computer programmer   \n9   Network and computer systems administrator   \n10                               Web developer   \n\n0                          Qualification  \\\n1                             Bachelor's   \n2                               Master's   \n3                 Bachelor's or master's   \n4                               Master's   \n5   Bachelor's and 2 years of experience   \n6                Associate or Bachelor's   \n7                             Bachelor's   \n8                             Bachelor's   \n9                             Bachelor's   \n10                            Bachelor's   \n\n0                      Required Programming Languages  \\\n1                                [Python, C#, JQuery]   \n2        [Python, Java, C++, JavaScript, Julia, LISP]   \n3   [Python, R, SQL, Java, C/C++, Scala, GO, JavaS...   \n4                                [Python, JavaScript]   \n5                                [Python, Perl, Json]   \n6    [Python, C#, C++, PHP, Java, Scala, Java Script]   \n7                  [Structured Query Language (SQL).]   \n8   [Python, JavaScript, SQL, Java, C/C++, Scala, ...   \n9               [HTML, Java Script, Go, Python, Node]   \n10                [HTML, Java Script, PHP, JAVA, CSS]   \n\n0                                      Required Skill Expected Starting Pay  \n1   Strong Communication Skills\\nInterpersonal Ski...    4.5 Lakhs per year  \n2   Logical thinking with mathematical, analytical...    3.5 Lakhs per year  \n3   Analytical professionals with strengths in mat...    3.5 Lakhs per year  \n4   Logical and analytical professionals with stro...    6.4 Lakhs per year  \n5   Detail-oriented professionals with a broad kno...     11 Lakhs per year  \n6   Creative IT specialists with problem-solving a...    3.2 Lakhs per year  \n7   People with analytical skills\\nLeaders with st...    7.6 Lakhs per year  \n8   Professionals with computer and troubleshootin...    3.5 Lakhs per year  \n9   Multitaskers with analytical mindsets\\nProblem...    3.3 Lakhs per year  \n10  Creative-minded professionals with coding and ...    4.2 Lakhs per year  ",
      "text/html": "<div>\n<style scoped>\n    .dataframe tbody tr th:only-of-type {\n        vertical-align: middle;\n    }\n\n    .dataframe tbody tr th {\n        vertical-align: top;\n    }\n\n    .dataframe thead th {\n        text-align: right;\n    }\n</style>\n<table border=\"1\" class=\"dataframe\">\n  <thead>\n    <tr style=\"text-align: right;\">\n      <th></th>\n      <th>Job Role</th>\n      <th>Qualification</th>\n      <th>Required Programming Languages</th>\n      <th>Required Skill</th>\n      <th>Expected Starting Pay</th>\n    </tr>\n  </thead>\n  <tbody>\n    <tr>\n      <th>1</th>\n      <td>Software Developer</td>\n      <td>Bachelor's</td>\n      <td>[Python, C#, JQuery]</td>\n      <td>Strong Communication Skills\\nInterpersonal Ski...</td>\n      <td>4.5 Lakhs per year</td>\n    </tr>\n    <tr>\n      <th>2</th>\n      <td>AI Research Scientist</td>\n      <td>Master's</td>\n      <td>[Python, Java, C++, JavaScript, Julia, LISP]</td>\n      <td>Logical thinking with mathematical, analytical...</td>\n      <td>3.5 Lakhs per year</td>\n    </tr>\n    <tr>\n      <th>3</th>\n      <td>Data Scientists</td>\n      <td>Bachelor's or master's</td>\n      <td>[Python, R, SQL, Java, C/C++, Scala, GO, JavaS...</td>\n      <td>Analytical professionals with strengths in mat...</td>\n      <td>3.5 Lakhs per year</td>\n    </tr>\n    <tr>\n      <th>4</th>\n      <td>Machine Learning Engineer</td>\n      <td>Master's</td>\n      <td>[Python, JavaScript]</td>\n      <td>Logical and analytical professionals with stro...</td>\n      <td>6.4 Lakhs per year</td>\n    </tr>\n    <tr>\n      <th>5</th>\n      <td>Computer Network Architect</td>\n      <td>Bachelor's and 2 years of experience</td>\n      <td>[Python, Perl, Json]</td>\n      <td>Detail-oriented professionals with a broad kno...</td>\n      <td>11 Lakhs per year</td>\n    </tr>\n    <tr>\n      <th>6</th>\n      <td>Mobile Application Designer</td>\n      <td>Associate or Bachelor's</td>\n      <td>[Python, C#, C++, PHP, Java, Scala, Java Script]</td>\n      <td>Creative IT specialists with problem-solving a...</td>\n      <td>3.2 Lakhs per year</td>\n    </tr>\n    <tr>\n      <th>7</th>\n      <td>Computer systems analyst</td>\n      <td>Bachelor's</td>\n      <td>[Structured Query Language (SQL).]</td>\n      <td>People with analytical skills\\nLeaders with st...</td>\n      <td>7.6 Lakhs per year</td>\n    </tr>\n    <tr>\n      <th>8</th>\n      <td>Computer programmer</td>\n      <td>Bachelor's</td>\n      <td>[Python, JavaScript, SQL, Java, C/C++, Scala, ...</td>\n      <td>Professionals with computer and troubleshootin...</td>\n      <td>3.5 Lakhs per year</td>\n    </tr>\n    <tr>\n      <th>9</th>\n      <td>Network and computer systems administrator</td>\n      <td>Bachelor's</td>\n      <td>[HTML, Java Script, Go, Python, Node]</td>\n      <td>Multitaskers with analytical mindsets\\nProblem...</td>\n      <td>3.3 Lakhs per year</td>\n    </tr>\n    <tr>\n      <th>10</th>\n      <td>Web developer</td>\n      <td>Bachelor's</td>\n      <td>[HTML, Java Script, PHP, JAVA, CSS]</td>\n      <td>Creative-minded professionals with coding and ...</td>\n      <td>4.2 Lakhs per year</td>\n    </tr>\n  </tbody>\n</table>\n</div>"
     },
     "execution_count": 16,
     "metadata": {},
     "output_type": "execute_result"
    }
   ],
   "source": [
    "job_roles_dataframe.loc[:, 'Required Programming Languages'] = job_roles_dataframe.loc[:, 'Required Programming Languages'].str.split(',').apply(lambda x: [s.strip() for s in x])\n",
    "job_roles_dataframe"
   ],
   "metadata": {
    "collapsed": false,
    "ExecuteTime": {
     "end_time": "2023-06-20T16:46:42.290794600Z",
     "start_time": "2023-06-20T16:46:41.569519700Z"
    }
   }
  },
  {
   "cell_type": "markdown",
   "source": [
    "#### Converting Job Roles Data Frame Column \"Required Skill\" to Column of Arrays to hold multiple Skills\n"
   ],
   "metadata": {
    "collapsed": false
   }
  },
  {
   "cell_type": "code",
   "execution_count": 17,
   "outputs": [
    {
     "data": {
      "text/plain": "0                                     Job Role  \\\n1                           Software Developer   \n2                        AI Research Scientist   \n3                              Data Scientists   \n4                    Machine Learning Engineer   \n5                   Computer Network Architect   \n6                  Mobile Application Designer   \n7                     Computer systems analyst   \n8                          Computer programmer   \n9   Network and computer systems administrator   \n10                               Web developer   \n\n0                          Qualification  \\\n1                             Bachelor's   \n2                               Master's   \n3                 Bachelor's or master's   \n4                               Master's   \n5   Bachelor's and 2 years of experience   \n6                Associate or Bachelor's   \n7                             Bachelor's   \n8                             Bachelor's   \n9                             Bachelor's   \n10                            Bachelor's   \n\n0                      Required Programming Languages  \\\n1                                [Python, C#, JQuery]   \n2        [Python, Java, C++, JavaScript, Julia, LISP]   \n3   [Python, R, SQL, Java, C/C++, Scala, GO, JavaS...   \n4                                [Python, JavaScript]   \n5                                [Python, Perl, Json]   \n6    [Python, C#, C++, PHP, Java, Scala, Java Script]   \n7                  [Structured Query Language (SQL).]   \n8   [Python, JavaScript, SQL, Java, C/C++, Scala, ...   \n9               [HTML, Java Script, Go, Python, Node]   \n10                [HTML, Java Script, PHP, JAVA, CSS]   \n\n0                                      Required Skill Expected Starting Pay  \n1   [Strong Communication Skills, Interpersonal Sk...    4.5 Lakhs per year  \n2   [Logical thinking with mathematical, analytica...    3.5 Lakhs per year  \n3   [Analytical professionals with strengths in ma...    3.5 Lakhs per year  \n4   [Logical and analytical professionals with str...    6.4 Lakhs per year  \n5   [Detail-oriented professionals with a broad kn...     11 Lakhs per year  \n6   [Creative IT specialists with problem-solving ...    3.2 Lakhs per year  \n7   [People with analytical skills, Leaders with s...    7.6 Lakhs per year  \n8   [Professionals with computer and troubleshooti...    3.5 Lakhs per year  \n9   [Multitaskers with analytical mindsets, Proble...    3.3 Lakhs per year  \n10  [Creative-minded professionals with coding and...    4.2 Lakhs per year  ",
      "text/html": "<div>\n<style scoped>\n    .dataframe tbody tr th:only-of-type {\n        vertical-align: middle;\n    }\n\n    .dataframe tbody tr th {\n        vertical-align: top;\n    }\n\n    .dataframe thead th {\n        text-align: right;\n    }\n</style>\n<table border=\"1\" class=\"dataframe\">\n  <thead>\n    <tr style=\"text-align: right;\">\n      <th></th>\n      <th>Job Role</th>\n      <th>Qualification</th>\n      <th>Required Programming Languages</th>\n      <th>Required Skill</th>\n      <th>Expected Starting Pay</th>\n    </tr>\n  </thead>\n  <tbody>\n    <tr>\n      <th>1</th>\n      <td>Software Developer</td>\n      <td>Bachelor's</td>\n      <td>[Python, C#, JQuery]</td>\n      <td>[Strong Communication Skills, Interpersonal Sk...</td>\n      <td>4.5 Lakhs per year</td>\n    </tr>\n    <tr>\n      <th>2</th>\n      <td>AI Research Scientist</td>\n      <td>Master's</td>\n      <td>[Python, Java, C++, JavaScript, Julia, LISP]</td>\n      <td>[Logical thinking with mathematical, analytica...</td>\n      <td>3.5 Lakhs per year</td>\n    </tr>\n    <tr>\n      <th>3</th>\n      <td>Data Scientists</td>\n      <td>Bachelor's or master's</td>\n      <td>[Python, R, SQL, Java, C/C++, Scala, GO, JavaS...</td>\n      <td>[Analytical professionals with strengths in ma...</td>\n      <td>3.5 Lakhs per year</td>\n    </tr>\n    <tr>\n      <th>4</th>\n      <td>Machine Learning Engineer</td>\n      <td>Master's</td>\n      <td>[Python, JavaScript]</td>\n      <td>[Logical and analytical professionals with str...</td>\n      <td>6.4 Lakhs per year</td>\n    </tr>\n    <tr>\n      <th>5</th>\n      <td>Computer Network Architect</td>\n      <td>Bachelor's and 2 years of experience</td>\n      <td>[Python, Perl, Json]</td>\n      <td>[Detail-oriented professionals with a broad kn...</td>\n      <td>11 Lakhs per year</td>\n    </tr>\n    <tr>\n      <th>6</th>\n      <td>Mobile Application Designer</td>\n      <td>Associate or Bachelor's</td>\n      <td>[Python, C#, C++, PHP, Java, Scala, Java Script]</td>\n      <td>[Creative IT specialists with problem-solving ...</td>\n      <td>3.2 Lakhs per year</td>\n    </tr>\n    <tr>\n      <th>7</th>\n      <td>Computer systems analyst</td>\n      <td>Bachelor's</td>\n      <td>[Structured Query Language (SQL).]</td>\n      <td>[People with analytical skills, Leaders with s...</td>\n      <td>7.6 Lakhs per year</td>\n    </tr>\n    <tr>\n      <th>8</th>\n      <td>Computer programmer</td>\n      <td>Bachelor's</td>\n      <td>[Python, JavaScript, SQL, Java, C/C++, Scala, ...</td>\n      <td>[Professionals with computer and troubleshooti...</td>\n      <td>3.5 Lakhs per year</td>\n    </tr>\n    <tr>\n      <th>9</th>\n      <td>Network and computer systems administrator</td>\n      <td>Bachelor's</td>\n      <td>[HTML, Java Script, Go, Python, Node]</td>\n      <td>[Multitaskers with analytical mindsets, Proble...</td>\n      <td>3.3 Lakhs per year</td>\n    </tr>\n    <tr>\n      <th>10</th>\n      <td>Web developer</td>\n      <td>Bachelor's</td>\n      <td>[HTML, Java Script, PHP, JAVA, CSS]</td>\n      <td>[Creative-minded professionals with coding and...</td>\n      <td>4.2 Lakhs per year</td>\n    </tr>\n  </tbody>\n</table>\n</div>"
     },
     "execution_count": 17,
     "metadata": {},
     "output_type": "execute_result"
    }
   ],
   "source": [
    "job_roles_dataframe.loc[:, 'Required Skill'] = job_roles_dataframe.loc[:, 'Required Skill'].str.split('\\n').apply(lambda x: [s.strip() for s in x])\n",
    "job_roles_dataframe"
   ],
   "metadata": {
    "collapsed": false,
    "ExecuteTime": {
     "end_time": "2023-06-20T16:46:42.620973Z",
     "start_time": "2023-06-20T16:46:41.619545Z"
    }
   }
  },
  {
   "cell_type": "markdown",
   "source": [
    "## Job Roles"
   ],
   "metadata": {
    "collapsed": false
   }
  },
  {
   "cell_type": "code",
   "execution_count": 18,
   "outputs": [
    {
     "data": {
      "text/plain": "array(['Python', 'C#', 'JQuery', 'Java', 'C++', 'JavaScript', 'Julia',\n       'LISP', 'R', 'SQL', 'C/C++', 'Scala', 'GO', 'Swift', 'MATLAB',\n       'SAS', 'Perl', 'Json', 'PHP', 'Java Script',\n       'Structured Query Language (SQL).', 'Kotlin', 'Go', 'HTML', 'Node',\n       'JAVA', 'CSS'], dtype=object)"
     },
     "execution_count": 18,
     "metadata": {},
     "output_type": "execute_result"
    }
   ],
   "source": [
    "unique_skills = job_roles_dataframe['Required Programming Languages'].explode().unique()\n",
    "\n",
    "unique_skills_labels = np.array(unique_skills)\n",
    "\n",
    "unique_skills"
   ],
   "metadata": {
    "collapsed": false,
    "ExecuteTime": {
     "end_time": "2023-06-20T16:46:42.790037Z",
     "start_time": "2023-06-20T16:46:41.800581500Z"
    }
   }
  },
  {
   "cell_type": "code",
   "execution_count": 28,
   "outputs": [
    {
     "name": "stdout",
     "output_type": "stream",
     "text": [
      "Added Skills : []\n",
      "Added Skills : ['Python']\n",
      "Added Skills : ['Python', 'JavaScript']\n",
      "Added Skills : ['Python', 'JavaScript', 'LISP']\n",
      "Final Skills : ['Python', 'JavaScript', 'LISP']\n"
     ]
    },
    {
     "data": {
      "text/plain": "0                                    Job Role  \\\n1                          Software Developer   \n2                       AI Research Scientist   \n3                             Data Scientists   \n4                   Machine Learning Engineer   \n5                  Computer Network Architect   \n6                 Mobile Application Designer   \n8                         Computer programmer   \n9  Network and computer systems administrator   \n\n0                         Qualification  \\\n1                            Bachelor's   \n2                              Master's   \n3                Bachelor's or master's   \n4                              Master's   \n5  Bachelor's and 2 years of experience   \n6               Associate or Bachelor's   \n8                            Bachelor's   \n9                            Bachelor's   \n\n0                     Required Programming Languages  \\\n1                               [Python, C#, JQuery]   \n2       [Python, Java, C++, JavaScript, Julia, LISP]   \n3  [Python, R, SQL, Java, C/C++, Scala, GO, JavaS...   \n4                               [Python, JavaScript]   \n5                               [Python, Perl, Json]   \n6   [Python, C#, C++, PHP, Java, Scala, Java Script]   \n8  [Python, JavaScript, SQL, Java, C/C++, Scala, ...   \n9              [HTML, Java Script, Go, Python, Node]   \n\n0                                     Required Skill Expected Starting Pay  \n1  [Strong Communication Skills, Interpersonal Sk...    4.5 Lakhs per year  \n2  [Logical thinking with mathematical, analytica...    3.5 Lakhs per year  \n3  [Analytical professionals with strengths in ma...    3.5 Lakhs per year  \n4  [Logical and analytical professionals with str...    6.4 Lakhs per year  \n5  [Detail-oriented professionals with a broad kn...     11 Lakhs per year  \n6  [Creative IT specialists with problem-solving ...    3.2 Lakhs per year  \n8  [Professionals with computer and troubleshooti...    3.5 Lakhs per year  \n9  [Multitaskers with analytical mindsets, Proble...    3.3 Lakhs per year  ",
      "text/html": "<div>\n<style scoped>\n    .dataframe tbody tr th:only-of-type {\n        vertical-align: middle;\n    }\n\n    .dataframe tbody tr th {\n        vertical-align: top;\n    }\n\n    .dataframe thead th {\n        text-align: right;\n    }\n</style>\n<table border=\"1\" class=\"dataframe\">\n  <thead>\n    <tr style=\"text-align: right;\">\n      <th></th>\n      <th>Job Role</th>\n      <th>Qualification</th>\n      <th>Required Programming Languages</th>\n      <th>Required Skill</th>\n      <th>Expected Starting Pay</th>\n    </tr>\n  </thead>\n  <tbody>\n    <tr>\n      <th>1</th>\n      <td>Software Developer</td>\n      <td>Bachelor's</td>\n      <td>[Python, C#, JQuery]</td>\n      <td>[Strong Communication Skills, Interpersonal Sk...</td>\n      <td>4.5 Lakhs per year</td>\n    </tr>\n    <tr>\n      <th>2</th>\n      <td>AI Research Scientist</td>\n      <td>Master's</td>\n      <td>[Python, Java, C++, JavaScript, Julia, LISP]</td>\n      <td>[Logical thinking with mathematical, analytica...</td>\n      <td>3.5 Lakhs per year</td>\n    </tr>\n    <tr>\n      <th>3</th>\n      <td>Data Scientists</td>\n      <td>Bachelor's or master's</td>\n      <td>[Python, R, SQL, Java, C/C++, Scala, GO, JavaS...</td>\n      <td>[Analytical professionals with strengths in ma...</td>\n      <td>3.5 Lakhs per year</td>\n    </tr>\n    <tr>\n      <th>4</th>\n      <td>Machine Learning Engineer</td>\n      <td>Master's</td>\n      <td>[Python, JavaScript]</td>\n      <td>[Logical and analytical professionals with str...</td>\n      <td>6.4 Lakhs per year</td>\n    </tr>\n    <tr>\n      <th>5</th>\n      <td>Computer Network Architect</td>\n      <td>Bachelor's and 2 years of experience</td>\n      <td>[Python, Perl, Json]</td>\n      <td>[Detail-oriented professionals with a broad kn...</td>\n      <td>11 Lakhs per year</td>\n    </tr>\n    <tr>\n      <th>6</th>\n      <td>Mobile Application Designer</td>\n      <td>Associate or Bachelor's</td>\n      <td>[Python, C#, C++, PHP, Java, Scala, Java Script]</td>\n      <td>[Creative IT specialists with problem-solving ...</td>\n      <td>3.2 Lakhs per year</td>\n    </tr>\n    <tr>\n      <th>8</th>\n      <td>Computer programmer</td>\n      <td>Bachelor's</td>\n      <td>[Python, JavaScript, SQL, Java, C/C++, Scala, ...</td>\n      <td>[Professionals with computer and troubleshooti...</td>\n      <td>3.5 Lakhs per year</td>\n    </tr>\n    <tr>\n      <th>9</th>\n      <td>Network and computer systems administrator</td>\n      <td>Bachelor's</td>\n      <td>[HTML, Java Script, Go, Python, Node]</td>\n      <td>[Multitaskers with analytical mindsets, Proble...</td>\n      <td>3.3 Lakhs per year</td>\n    </tr>\n  </tbody>\n</table>\n</div>"
     },
     "execution_count": 28,
     "metadata": {},
     "output_type": "execute_result"
    }
   ],
   "source": [
    "selected_skills = []\n",
    "\n",
    "while True:\n",
    "    print(\"Added Skills :\", selected_skills)\n",
    "    option = int(input(\"Add a Skill from above table through index value; -1 to suggest the jobs for your skills :\"))\n",
    "\n",
    "    if option == -1:\n",
    "        break\n",
    "    elif option >= len(unique_skills_labels):\n",
    "        print(\"Invalid Option\")\n",
    "\n",
    "    skill = unique_skills_labels[option]\n",
    "\n",
    "    if(skill in selected_skills):\n",
    "        print(\"Skill already added\")\n",
    "        continue\n",
    "\n",
    "    selected_skills.append(skill)\n",
    "\n",
    "print(\"Final Skills :\", selected_skills)\n",
    "\n",
    "filtered_dataframe = job_roles_dataframe[job_roles_dataframe['Required Programming Languages'].apply(lambda row: any(name in row for name in selected_skills))]\n",
    "filtered_dataframe"
   ],
   "metadata": {
    "collapsed": false,
    "ExecuteTime": {
     "end_time": "2023-06-20T16:55:54.318168600Z",
     "start_time": "2023-06-20T16:55:51.200906500Z"
    }
   }
  },
  {
   "cell_type": "markdown",
   "source": [
    "## Jobs Skills"
   ],
   "metadata": {
    "collapsed": false
   }
  },
  {
   "cell_type": "code",
   "execution_count": 29,
   "outputs": [
    {
     "data": {
      "text/plain": "array(['Strong Communication Skill', 'Interpersonal Skills',\n       'Presentation Skills', 'Creativity Skills',\n       'Analytical Problem Solving', 'Detail Oriented Skills',\n       'Logical thinking Skills', 'Innovative skills',\n       'Leadership Skills', 'Mathematical Skills', 'Technical Skills',\n       'Ingenuity Skills', 'Multitasking Skills',\n       'Good Customer service Skills'], dtype=object)"
     },
     "execution_count": 29,
     "metadata": {},
     "output_type": "execute_result"
    }
   ],
   "source": [
    "unique_soft_skills = job_skills_dataframe['Required Skills'].explode().unique()\n",
    "\n",
    "unique_soft_skills_labels = np.array(unique_soft_skills)\n",
    "\n",
    "unique_soft_skills"
   ],
   "metadata": {
    "collapsed": false,
    "ExecuteTime": {
     "end_time": "2023-06-20T17:04:14.783992400Z",
     "start_time": "2023-06-20T17:04:14.742105900Z"
    }
   }
  },
  {
   "cell_type": "code",
   "execution_count": 40,
   "outputs": [
    {
     "name": "stdout",
     "output_type": "stream",
     "text": [
      "Persuasive Speaking Skills, Empathy, Adaptability, Ability to Use Positive Language, Clear Communication Skills, Self-Control, Taking Responsibility, Patience\n"
     ]
    }
   ],
   "source": [
    "option = int(input(\"Enter a Skill from above table through index value to get Skill Acquisition\"))\n",
    "\n",
    "if option >= len(unique_soft_skills_labels):\n",
    "    print(\"Invalid Option\")\n",
    "else:\n",
    "    selected_skill = unique_soft_skills_labels[option]\n",
    "\n",
    "    filtered_dataframe = job_skills_dataframe[job_skills_dataframe['Required Skills'] == selected_skill]\n",
    "\n",
    "    print(filtered_dataframe[\"Skill Acquisition\"].iloc[0])"
   ],
   "metadata": {
    "collapsed": false,
    "ExecuteTime": {
     "end_time": "2023-06-20T17:16:07.085267700Z",
     "start_time": "2023-06-20T17:16:05.902640500Z"
    }
   }
  },
  {
   "cell_type": "markdown",
   "source": [
    "## Job Risks"
   ],
   "metadata": {
    "collapsed": false
   }
  },
  {
   "cell_type": "code",
   "execution_count": 41,
   "outputs": [
    {
     "data": {
      "text/plain": "array(['Amazon', 'Meesho', 'Meta', 'Wipro', 'Google', 'Cognizant',\n       'Infosys', 'Byjus', 'Unacademy', 'Toothsi', 'Pharmeasy',\n       'Healthifyme', 'Hirect', 'Ola', 'Blinkit', 'OYO', 'Livspace',\n       'Share chat', 'Pocket aces', 'MPL '], dtype=object)"
     },
     "execution_count": 41,
     "metadata": {},
     "output_type": "execute_result"
    }
   ],
   "source": [
    "unique_companies = job_risks_dataframe['Company Name'].explode().unique()\n",
    "\n",
    "unique_companies"
   ],
   "metadata": {
    "collapsed": false,
    "ExecuteTime": {
     "end_time": "2023-06-20T17:23:35.162989500Z",
     "start_time": "2023-06-20T17:23:35.139052900Z"
    }
   }
  },
  {
   "cell_type": "code",
   "execution_count": 50,
   "outputs": [
    {
     "name": "stdout",
     "output_type": "stream",
     "text": [
      "High Risk Jobs :  Hardware and Services, Human Resources, Retail teams, Devices & Service, Lower-skilled Customer Service Roles\n",
      "Low Risk Jobs :  Software Development Engineer (SDE), Data Scientist, Operations Manager, Customer Service Representative, Marketing Specialist, Cloud Architect/Engineer, Fulfillment Center Associate\n"
     ]
    }
   ],
   "source": [
    "company = input(\"Enter company name :\")\n",
    "\n",
    "filtered_dataframe = job_risks_dataframe[job_risks_dataframe['Company Name'].str.lower() == company.lower()]\n",
    "\n",
    "if len(filtered_dataframe) == 0:\n",
    "    print(\"Company not found\")\n",
    "else:\n",
    "    print(\"High Risk Jobs : \", filtered_dataframe[\"High Risk jobs\"].iloc[0])\n",
    "    print(\"Low Risk Jobs : \", filtered_dataframe[\"Low Risk jobs\"].iloc[0])"
   ],
   "metadata": {
    "collapsed": false,
    "ExecuteTime": {
     "end_time": "2023-06-20T17:38:56.523259100Z",
     "start_time": "2023-06-20T17:38:54.466478800Z"
    }
   }
  }
 ],
 "metadata": {
  "kernelspec": {
   "display_name": "Python 3",
   "language": "python",
   "name": "python3"
  },
  "language_info": {
   "codemirror_mode": {
    "name": "ipython",
    "version": 2
   },
   "file_extension": ".py",
   "mimetype": "text/x-python",
   "name": "python",
   "nbconvert_exporter": "python",
   "pygments_lexer": "ipython2",
   "version": "2.7.6"
  }
 },
 "nbformat": 4,
 "nbformat_minor": 0
}
